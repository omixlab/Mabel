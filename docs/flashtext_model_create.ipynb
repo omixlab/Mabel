{
 "cells": [
  {
   "cell_type": "code",
   "execution_count": 6,
   "metadata": {},
   "outputs": [],
   "source": [
    "from flashtext import KeywordProcessor\n",
    "import pickle\n",
    "import pandas as pd\n",
    "import numpy as np"
   ]
  },
  {
   "cell_type": "markdown",
   "metadata": {},
   "source": [
    "### Step 1: Edit with PATH and NAME\n",
    "### Step 2: Run all"
   ]
  },
  {
   "cell_type": "code",
   "execution_count": 7,
   "metadata": {},
   "outputs": [],
   "source": [
    "# Path to .TSV file from ncbi\n",
    "path = '/home/koku/Downloads/danio_rerio.txt'\n",
    "\n",
    "# Name for the model\n",
    "name = 'genes_danio_rerio'"
   ]
  },
  {
   "cell_type": "code",
   "execution_count": 8,
   "metadata": {},
   "outputs": [],
   "source": [
    "# Convert data into gene dict and list    \n",
    "genes_dict = {}\n",
    "genes_list = []\n",
    "\n",
    "with open(path, 'r') as file:\n",
    "    next(file) #skip head\n",
    "\n",
    "    for line in file:\n",
    "        values = line.strip().split('\\t') # Split by tabs\n",
    "\n",
    "        #gene_id = values[2]\n",
    "        symbol = values[5]\n",
    "        aliases = values[6]\n",
    "        #description = values[7]\n",
    "        #other_designation = values[8]\n",
    "\n",
    "        if aliases:\n",
    "            designations = aliases.split(', ')\n",
    "            designations.insert(0, symbol)\n",
    "            genes_dict[symbol] = designations\n",
    "        else:\n",
    "            genes_list.append(symbol)"
   ]
  },
  {
   "cell_type": "code",
   "execution_count": 9,
   "metadata": {},
   "outputs": [],
   "source": [
    "kp = KeywordProcessor(case_sensitive=True)\n",
    "\n",
    "kp.add_keywords_from_dict(genes_dict)\n",
    "kp.add_keywords_from_list(genes_list)"
   ]
  },
  {
   "cell_type": "code",
   "execution_count": 10,
   "metadata": {},
   "outputs": [],
   "source": [
    "# Write with pickle\n",
    "with open(f'{name}.pickle', 'wb') as writer:\n",
    "    writer.write(pickle.dumps(kp))"
   ]
  },
  {
   "cell_type": "markdown",
   "metadata": {},
   "source": [
    "## Test"
   ]
  },
  {
   "cell_type": "code",
   "execution_count": 11,
   "metadata": {},
   "outputs": [],
   "source": [
    "# Read pickle model\n",
    "#with open(f'{name}.pickle', 'rb') as reader:\n",
    "#    kp = pickle.loads(reader.read())"
   ]
  },
  {
   "cell_type": "code",
   "execution_count": 12,
   "metadata": {},
   "outputs": [],
   "source": [
    "# Filter keywords from text\n",
    "#def process_keywords(abstract):\n",
    "    #return set(kp.extract_keywords(abstract))\n",
    "\n",
    "#genes_column = []\n",
    "#for row in df[\"Abstract\"]:\n",
    "#    if not isinstance(row, float):\n",
    "#        print(type(row))\n",
    "#        genes = process_keywords(row)\n",
    "#        genes_column.append(', '.join(genes))\n",
    "#    else:\n",
    "#        genes_column.append(np.nan)\n",
    "\n",
    "#df.insert(12, 'flashtext', genes_column)\n",
    "#df.to_csv('with_flashtext.csv', index=False)\n",
    "\n",
    "#genes_column = []\n",
    "#for row in df[\"Genes\"]:\n",
    "#    if not isinstance(row, float):\n",
    "#        genes = process_keywords(row)\n",
    "#        genes_column.append(', '.join(genes))\n",
    "#    else:\n",
    "#        genes_column.append(np.nan)\n",
    "#df.insert(13, 'flashtext_filter', genes_column)\n",
    "#df.to_csv('with_flashtext.csv', index=False)"
   ]
  }
 ],
 "metadata": {
  "kernelspec": {
   "display_name": "review",
   "language": "python",
   "name": "python3"
  },
  "language_info": {
   "codemirror_mode": {
    "name": "ipython",
    "version": 3
   },
   "file_extension": ".py",
   "mimetype": "text/x-python",
   "name": "python",
   "nbconvert_exporter": "python",
   "pygments_lexer": "ipython3",
   "version": "3.8.17"
  },
  "orig_nbformat": 4
 },
 "nbformat": 4,
 "nbformat_minor": 2
}
