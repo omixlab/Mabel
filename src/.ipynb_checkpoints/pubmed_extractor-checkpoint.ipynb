{
 "cells": [
  {
   "cell_type": "code",
   "execution_count": 1,
   "id": "c8a8442b-d8b4-404c-b013-fab1e133a06f",
   "metadata": {
    "tags": []
   },
   "outputs": [],
   "source": [
    "import os\n",
    "from dotenv import load_dotenv\n",
    "\n",
    "load_dotenv()\n",
    "_ = os.getenv('NCBI_API_KEY')\n",
    "\n",
    "import pandas as pd\n",
    "import numpy as np\n",
    "import metapub"
   ]
  },
  {
   "cell_type": "code",
   "execution_count": 3,
   "id": "5dedf9d4-224a-4e10-ab45-ad7dc8ed6b78",
   "metadata": {
    "tags": []
   },
   "outputs": [],
   "source": [
    "keyword='(\"prostate cancer\" OR \"adenocarcinoma of the prostate\" OR \"prostate sarcoma\") AND (\"molecular target\" OR \"therapeutic target\")'\n",
    "num_of_articles=250"
   ]
  },
  {
   "cell_type": "code",
   "execution_count": 4,
   "id": "e06c557d-d763-491b-b30e-a151a13e97c7",
   "metadata": {
    "tags": []
   },
   "outputs": [],
   "source": [
    "from metapub import PubMedFetcher\n",
    "fetch = PubMedFetcher()\n",
    "\n",
    "# get the  PMID for first 250 articles with keyword \n",
    "pmids = fetch.pmids_for_query(keyword, retmax=num_of_articles)\n",
    "\n",
    "# get  articles\n",
    "articles = {}\n",
    "for pmid in pmids:\n",
    "    articles[pmid] = fetch.article_by_pmid(pmid)"
   ]
  },
  {
   "cell_type": "code",
   "execution_count": 5,
   "id": "cc8ad7fb-28ee-4edb-aad3-9cd9434c5c01",
   "metadata": {
    "tags": []
   },
   "outputs": [
    {
     "data": {
      "text/plain": [
       "['37138326',\n",
       " '37119046',\n",
       " '37118847',\n",
       " '37113783',\n",
       " '37086156',\n",
       " '37075701',\n",
       " '37073437',\n",
       " '37069746',\n",
       " '37056926',\n",
       " '37047232']"
      ]
     },
     "execution_count": 5,
     "metadata": {},
     "output_type": "execute_result"
    }
   ],
   "source": [
    "list(articles)[0:10]"
   ]
  },
  {
   "cell_type": "code",
   "execution_count": 6,
   "id": "0b92efcf-3564-4d77-a85d-076aeb4ea9fb",
   "metadata": {
    "tags": []
   },
   "outputs": [],
   "source": [
    "titles = {}\n",
    "for pmid in pmids:\n",
    "    titles[pmid] = fetch.article_by_pmid(pmid).title\n",
    "Title = pd.DataFrame(list(titles.items()),columns = ['pmid','Title'])"
   ]
  },
  {
   "cell_type": "code",
   "execution_count": 7,
   "id": "82ddf878-d5a0-4cb7-925f-809f21bf9a29",
   "metadata": {
    "tags": []
   },
   "outputs": [],
   "source": [
    "# get abstract for each article:\n",
    "abstracts = {}\n",
    "for pmid in pmids:\n",
    "    abstracts[pmid] = fetch.article_by_pmid(pmid).abstract\n",
    "Abstract = pd.DataFrame(list(abstracts.items()),columns = ['pmid','Abstract'])"
   ]
  },
  {
   "cell_type": "code",
   "execution_count": 8,
   "id": "a6ee0b9e-6985-4ee6-a016-28359cec98e2",
   "metadata": {
    "tags": []
   },
   "outputs": [],
   "source": [
    "authors = {}\n",
    "for pmid in pmids:\n",
    "    authors[pmid] = fetch.article_by_pmid(pmid).authors\n",
    "Author = pd.DataFrame(list(authors.items()),columns = ['pmid','Author'])"
   ]
  },
  {
   "cell_type": "code",
   "execution_count": 9,
   "id": "c9c7a0ab-90ef-48f0-8c94-58909250d9b5",
   "metadata": {
    "tags": []
   },
   "outputs": [],
   "source": [
    "years = {}\n",
    "for pmid in pmids:\n",
    "    years[pmid] = fetch.article_by_pmid(pmid).year\n",
    "Year = pd.DataFrame(list(years.items()),columns = ['pmid','Year'])"
   ]
  },
  {
   "cell_type": "code",
   "execution_count": 10,
   "id": "bf366bfa-c4df-4cd2-89e8-ee2d40ea3fc1",
   "metadata": {
    "tags": []
   },
   "outputs": [],
   "source": [
    "volumes = {}\n",
    "for pmid in pmids:\n",
    "    volumes[pmid] = fetch.article_by_pmid(pmid).volume\n",
    "Volume = pd.DataFrame(list(volumes.items()),columns = ['pmid','Issue'])"
   ]
  },
  {
   "cell_type": "code",
   "execution_count": 11,
   "id": "ebfe8ac2-015a-401d-a606-9d5be48264ed",
   "metadata": {
    "tags": []
   },
   "outputs": [],
   "source": [
    "issues = {}\n",
    "for pmid in pmids:\n",
    "    issues[pmid] = fetch.article_by_pmid(pmid).issue\n",
    "Issue = pd.DataFrame(list(issues.items()),columns = ['pmid','Issue'])"
   ]
  },
  {
   "cell_type": "code",
   "execution_count": 12,
   "id": "35134a15-4a13-4b47-b59f-f8c100ea0bef",
   "metadata": {
    "tags": []
   },
   "outputs": [],
   "source": [
    "journals = {}\n",
    "for pmid in pmids:\n",
    "    journals[pmid] = fetch.article_by_pmid(pmid).journal\n",
    "Journal = pd.DataFrame(list(journals.items()),columns = ['pmid','Journal'])"
   ]
  },
  {
   "cell_type": "code",
   "execution_count": 13,
   "id": "4dd10723-8ff8-4989-8e71-f02b55f8d480",
   "metadata": {
    "tags": []
   },
   "outputs": [],
   "source": [
    "citations = {}\n",
    "for pmid in pmids:\n",
    "    citations[pmid] = fetch.article_by_pmid(pmid).citation\n",
    "Citation = pd.DataFrame(list(citations.items()),columns = ['pmid','Citation'])"
   ]
  },
  {
   "cell_type": "code",
   "execution_count": 14,
   "id": "1679fa65-8aa8-49e3-95c8-3a98d9b929b6",
   "metadata": {
    "tags": []
   },
   "outputs": [],
   "source": [
    "links={}\n",
    "for pmid in pmids:\n",
    "    links[pmid] = \"https://pubmed.ncbi.nlm.nih.gov/\"+pmid+\"/\"\n",
    "Link = pd.DataFrame(list(links.items()),columns = ['pmid','Link'])"
   ]
  },
  {
   "cell_type": "code",
   "execution_count": 15,
   "id": "08679136-a09c-4ca6-85d6-1abd47a061de",
   "metadata": {
    "tags": []
   },
   "outputs": [
    {
     "data": {
      "text/html": [
       "<div>\n",
       "<style scoped>\n",
       "    .dataframe tbody tr th:only-of-type {\n",
       "        vertical-align: middle;\n",
       "    }\n",
       "\n",
       "    .dataframe tbody tr th {\n",
       "        vertical-align: top;\n",
       "    }\n",
       "\n",
       "    .dataframe thead th {\n",
       "        text-align: right;\n",
       "    }\n",
       "</style>\n",
       "<table border=\"1\" class=\"dataframe\">\n",
       "  <thead>\n",
       "    <tr style=\"text-align: right;\">\n",
       "      <th></th>\n",
       "      <th>pmid</th>\n",
       "      <th>Title</th>\n",
       "      <th>Abstract</th>\n",
       "      <th>Author</th>\n",
       "      <th>Year</th>\n",
       "      <th>Issue_x</th>\n",
       "      <th>Issue_y</th>\n",
       "      <th>Journal</th>\n",
       "      <th>Citation</th>\n",
       "      <th>Link</th>\n",
       "    </tr>\n",
       "  </thead>\n",
       "  <tbody>\n",
       "    <tr>\n",
       "      <th>0</th>\n",
       "      <td>37138326</td>\n",
       "      <td>Myeloid-like tumor hybrid cells in bone marrow...</td>\n",
       "      <td>BACKGROUND: Bone metastasis is the leading cau...</td>\n",
       "      <td>[Ye X, Huang X, Fu X, Zhang X, Lin R, Zhang W,...</td>\n",
       "      <td>2023</td>\n",
       "      <td>16</td>\n",
       "      <td>1</td>\n",
       "      <td>J Hematol Oncol</td>\n",
       "      <td>Ye X, et al. Myeloid-like tumor hybrid cells i...</td>\n",
       "      <td>https://pubmed.ncbi.nlm.nih.gov/37138326/</td>\n",
       "    </tr>\n",
       "    <tr>\n",
       "      <th>1</th>\n",
       "      <td>37119046</td>\n",
       "      <td>SALL4 correlates with proliferation, metastasi...</td>\n",
       "      <td>BACKGROUND: The mechanism involved in prostate...</td>\n",
       "      <td>[Zhou J, Peng S, Fan H, Li J, Li Z, Wang G, Ze...</td>\n",
       "      <td>2023</td>\n",
       "      <td>None</td>\n",
       "      <td>None</td>\n",
       "      <td>Cancer Med</td>\n",
       "      <td>Zhou J, et al. SALL4 correlates with prolifera...</td>\n",
       "      <td>https://pubmed.ncbi.nlm.nih.gov/37119046/</td>\n",
       "    </tr>\n",
       "    <tr>\n",
       "      <th>2</th>\n",
       "      <td>37118847</td>\n",
       "      <td>Circular RNA EPHA3 suppresses progression and ...</td>\n",
       "      <td>BACKGROUND: Circular RNAs (circRNAs) may regul...</td>\n",
       "      <td>[Feng H, Deng Z, Peng W, Wei X, Liu J, Wang T]</td>\n",
       "      <td>2023</td>\n",
       "      <td>21</td>\n",
       "      <td>1</td>\n",
       "      <td>J Transl Med</td>\n",
       "      <td>Feng H, et al. Circular RNA EPHA3 suppresses p...</td>\n",
       "      <td>https://pubmed.ncbi.nlm.nih.gov/37118847/</td>\n",
       "    </tr>\n",
       "    <tr>\n",
       "      <th>3</th>\n",
       "      <td>37113783</td>\n",
       "      <td>Novel roles for HMGA2 isoforms in regulating o...</td>\n",
       "      <td>Oxidative stress is increased in several cance...</td>\n",
       "      <td>[Campbell T, Hawsawi O, Henderson V, Dike P, H...</td>\n",
       "      <td>2023</td>\n",
       "      <td>9</td>\n",
       "      <td>4</td>\n",
       "      <td>Heliyon</td>\n",
       "      <td>Campbell T, et al. Novel roles for HMGA2 isofo...</td>\n",
       "      <td>https://pubmed.ncbi.nlm.nih.gov/37113783/</td>\n",
       "    </tr>\n",
       "    <tr>\n",
       "      <th>4</th>\n",
       "      <td>37086156</td>\n",
       "      <td>Isocitrate dehydrogenase 1 sustains a hybrid c...</td>\n",
       "      <td>The androgen receptor (AR) is an established o...</td>\n",
       "      <td>[Gonthier K, Weidmann C, Berthiaume L, Jobin C...</td>\n",
       "      <td>2023</td>\n",
       "      <td>None</td>\n",
       "      <td>None</td>\n",
       "      <td>Mol Oncol</td>\n",
       "      <td>Gonthier K, et al. Isocitrate dehydrogenase 1 ...</td>\n",
       "      <td>https://pubmed.ncbi.nlm.nih.gov/37086156/</td>\n",
       "    </tr>\n",
       "    <tr>\n",
       "      <th>...</th>\n",
       "      <td>...</td>\n",
       "      <td>...</td>\n",
       "      <td>...</td>\n",
       "      <td>...</td>\n",
       "      <td>...</td>\n",
       "      <td>...</td>\n",
       "      <td>...</td>\n",
       "      <td>...</td>\n",
       "      <td>...</td>\n",
       "      <td>...</td>\n",
       "    </tr>\n",
       "    <tr>\n",
       "      <th>245</th>\n",
       "      <td>35109825</td>\n",
       "      <td>RNA-seq of nine canine prostate cancer cell li...</td>\n",
       "      <td>BACKGROUND: Canine prostate adenocarcinoma (PA...</td>\n",
       "      <td>[Packeiser EM, Taher L, Kong W, Ernst M, Beck ...</td>\n",
       "      <td>2022</td>\n",
       "      <td>22</td>\n",
       "      <td>1</td>\n",
       "      <td>Cancer Cell Int</td>\n",
       "      <td>Packeiser EM, et al. RNA-seq of nine canine pr...</td>\n",
       "      <td>https://pubmed.ncbi.nlm.nih.gov/35109825/</td>\n",
       "    </tr>\n",
       "    <tr>\n",
       "      <th>246</th>\n",
       "      <td>35098656</td>\n",
       "      <td>Roles of Myc-associated zinc finger protein in...</td>\n",
       "      <td>As an important transcription factor that is w...</td>\n",
       "      <td>[Zheng C, Wu H, Jin S, Li D, Tan S, Zhu X]</td>\n",
       "      <td>2022</td>\n",
       "      <td>18</td>\n",
       "      <td>6</td>\n",
       "      <td>Asia Pac J Clin Oncol</td>\n",
       "      <td>Zheng C, et al. Roles of Myc-associated zinc f...</td>\n",
       "      <td>https://pubmed.ncbi.nlm.nih.gov/35098656/</td>\n",
       "    </tr>\n",
       "    <tr>\n",
       "      <th>247</th>\n",
       "      <td>35087756</td>\n",
       "      <td>Tumor- and Osteoblast-Derived Periostin in Pro...</td>\n",
       "      <td>Exploring the biological function of periostin...</td>\n",
       "      <td>[Sun CY, Mi YY, Ge SY, Hu QF, Xu K, Guo YJ, Ta...</td>\n",
       "      <td>2021</td>\n",
       "      <td>11</td>\n",
       "      <td>None</td>\n",
       "      <td>Front Oncol</td>\n",
       "      <td>Sun CY, et al. Tumor- and Osteoblast-Derived P...</td>\n",
       "      <td>https://pubmed.ncbi.nlm.nih.gov/35087756/</td>\n",
       "    </tr>\n",
       "    <tr>\n",
       "      <th>248</th>\n",
       "      <td>35083818</td>\n",
       "      <td>ERG amplification is a secondary recurrent dri...</td>\n",
       "      <td>ERG is a transcription factor encoded on chrom...</td>\n",
       "      <td>[Lee WY, Gutierrez-Lanz EA, Xiao H, McClintock...</td>\n",
       "      <td>2022</td>\n",
       "      <td>61</td>\n",
       "      <td>7</td>\n",
       "      <td>Genes Chromosomes Cancer</td>\n",
       "      <td>Lee WY, et al. ERG amplification is a secondar...</td>\n",
       "      <td>https://pubmed.ncbi.nlm.nih.gov/35083818/</td>\n",
       "    </tr>\n",
       "    <tr>\n",
       "      <th>249</th>\n",
       "      <td>35078861</td>\n",
       "      <td>A Novel Role for DNA-PK in Metabolism by Regul...</td>\n",
       "      <td>PURPOSE: DNA-dependent protein kinase catalyti...</td>\n",
       "      <td>[Dylgjeri E, Kothari V, Shafi AA, Semenova G, ...</td>\n",
       "      <td>2022</td>\n",
       "      <td>28</td>\n",
       "      <td>7</td>\n",
       "      <td>Clin Cancer Res</td>\n",
       "      <td>Dylgjeri E, et al. A Novel Role for DNA-PK in ...</td>\n",
       "      <td>https://pubmed.ncbi.nlm.nih.gov/35078861/</td>\n",
       "    </tr>\n",
       "  </tbody>\n",
       "</table>\n",
       "<p>250 rows × 10 columns</p>\n",
       "</div>"
      ],
      "text/plain": [
       "         pmid                                              Title  \\\n",
       "0    37138326  Myeloid-like tumor hybrid cells in bone marrow...   \n",
       "1    37119046  SALL4 correlates with proliferation, metastasi...   \n",
       "2    37118847  Circular RNA EPHA3 suppresses progression and ...   \n",
       "3    37113783  Novel roles for HMGA2 isoforms in regulating o...   \n",
       "4    37086156  Isocitrate dehydrogenase 1 sustains a hybrid c...   \n",
       "..        ...                                                ...   \n",
       "245  35109825  RNA-seq of nine canine prostate cancer cell li...   \n",
       "246  35098656  Roles of Myc-associated zinc finger protein in...   \n",
       "247  35087756  Tumor- and Osteoblast-Derived Periostin in Pro...   \n",
       "248  35083818  ERG amplification is a secondary recurrent dri...   \n",
       "249  35078861  A Novel Role for DNA-PK in Metabolism by Regul...   \n",
       "\n",
       "                                              Abstract  \\\n",
       "0    BACKGROUND: Bone metastasis is the leading cau...   \n",
       "1    BACKGROUND: The mechanism involved in prostate...   \n",
       "2    BACKGROUND: Circular RNAs (circRNAs) may regul...   \n",
       "3    Oxidative stress is increased in several cance...   \n",
       "4    The androgen receptor (AR) is an established o...   \n",
       "..                                                 ...   \n",
       "245  BACKGROUND: Canine prostate adenocarcinoma (PA...   \n",
       "246  As an important transcription factor that is w...   \n",
       "247  Exploring the biological function of periostin...   \n",
       "248  ERG is a transcription factor encoded on chrom...   \n",
       "249  PURPOSE: DNA-dependent protein kinase catalyti...   \n",
       "\n",
       "                                                Author  Year Issue_x Issue_y  \\\n",
       "0    [Ye X, Huang X, Fu X, Zhang X, Lin R, Zhang W,...  2023      16       1   \n",
       "1    [Zhou J, Peng S, Fan H, Li J, Li Z, Wang G, Ze...  2023    None    None   \n",
       "2       [Feng H, Deng Z, Peng W, Wei X, Liu J, Wang T]  2023      21       1   \n",
       "3    [Campbell T, Hawsawi O, Henderson V, Dike P, H...  2023       9       4   \n",
       "4    [Gonthier K, Weidmann C, Berthiaume L, Jobin C...  2023    None    None   \n",
       "..                                                 ...   ...     ...     ...   \n",
       "245  [Packeiser EM, Taher L, Kong W, Ernst M, Beck ...  2022      22       1   \n",
       "246         [Zheng C, Wu H, Jin S, Li D, Tan S, Zhu X]  2022      18       6   \n",
       "247  [Sun CY, Mi YY, Ge SY, Hu QF, Xu K, Guo YJ, Ta...  2021      11    None   \n",
       "248  [Lee WY, Gutierrez-Lanz EA, Xiao H, McClintock...  2022      61       7   \n",
       "249  [Dylgjeri E, Kothari V, Shafi AA, Semenova G, ...  2022      28       7   \n",
       "\n",
       "                      Journal  \\\n",
       "0             J Hematol Oncol   \n",
       "1                  Cancer Med   \n",
       "2                J Transl Med   \n",
       "3                     Heliyon   \n",
       "4                   Mol Oncol   \n",
       "..                        ...   \n",
       "245           Cancer Cell Int   \n",
       "246     Asia Pac J Clin Oncol   \n",
       "247               Front Oncol   \n",
       "248  Genes Chromosomes Cancer   \n",
       "249           Clin Cancer Res   \n",
       "\n",
       "                                              Citation  \\\n",
       "0    Ye X, et al. Myeloid-like tumor hybrid cells i...   \n",
       "1    Zhou J, et al. SALL4 correlates with prolifera...   \n",
       "2    Feng H, et al. Circular RNA EPHA3 suppresses p...   \n",
       "3    Campbell T, et al. Novel roles for HMGA2 isofo...   \n",
       "4    Gonthier K, et al. Isocitrate dehydrogenase 1 ...   \n",
       "..                                                 ...   \n",
       "245  Packeiser EM, et al. RNA-seq of nine canine pr...   \n",
       "246  Zheng C, et al. Roles of Myc-associated zinc f...   \n",
       "247  Sun CY, et al. Tumor- and Osteoblast-Derived P...   \n",
       "248  Lee WY, et al. ERG amplification is a secondar...   \n",
       "249  Dylgjeri E, et al. A Novel Role for DNA-PK in ...   \n",
       "\n",
       "                                          Link  \n",
       "0    https://pubmed.ncbi.nlm.nih.gov/37138326/  \n",
       "1    https://pubmed.ncbi.nlm.nih.gov/37119046/  \n",
       "2    https://pubmed.ncbi.nlm.nih.gov/37118847/  \n",
       "3    https://pubmed.ncbi.nlm.nih.gov/37113783/  \n",
       "4    https://pubmed.ncbi.nlm.nih.gov/37086156/  \n",
       "..                                         ...  \n",
       "245  https://pubmed.ncbi.nlm.nih.gov/35109825/  \n",
       "246  https://pubmed.ncbi.nlm.nih.gov/35098656/  \n",
       "247  https://pubmed.ncbi.nlm.nih.gov/35087756/  \n",
       "248  https://pubmed.ncbi.nlm.nih.gov/35083818/  \n",
       "249  https://pubmed.ncbi.nlm.nih.gov/35078861/  \n",
       "\n",
       "[250 rows x 10 columns]"
      ]
     },
     "execution_count": 15,
     "metadata": {},
     "output_type": "execute_result"
    }
   ],
   "source": [
    "data_frames = [Title,Abstract,Author,Year,Volume,Issue,Journal,Citation,Link]\n",
    "from functools import reduce\n",
    "df_merged = reduce(lambda  left,right: pd.merge(left,right,on=['pmid'],\n",
    "                                            how='outer'), data_frames)\n",
    "df_merged"
   ]
  }
 ],
 "metadata": {
  "kernelspec": {
   "display_name": "Python 3 (ipykernel)",
   "language": "python",
   "name": "python3"
  },
  "language_info": {
   "codemirror_mode": {
    "name": "ipython",
    "version": 3
   },
   "file_extension": ".py",
   "mimetype": "text/x-python",
   "name": "python",
   "nbconvert_exporter": "python",
   "pygments_lexer": "ipython3",
   "version": "3.10.9"
  }
 },
 "nbformat": 4,
 "nbformat_minor": 5
}
