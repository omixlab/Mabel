{
 "cells": [
  {
   "cell_type": "code",
   "execution_count": 14,
   "metadata": {},
   "outputs": [],
   "source": [
    "import pandas as pd\n",
    "import re\n",
    "\n",
    "TERM_EXPRESSION = '([a-zA-Z0-9.@_]+:[a-zA-Z0-9_\\- ]+)'\n",
    "\n",
    "def filter_query(df, raw_query):\n",
    "    '''\n",
    "    Process a query string with \n",
    "    '''\n",
    "    terms = re.findall(TERM_EXPRESSION, raw_query)\n",
    "    compiled_query = raw_query\n",
    "    \n",
    "    for term in terms:\n",
    "        field, keyword = term.split(':', 1)\n",
    "        \n",
    "        if field not in df.columns:\n",
    "            raise Exception(f'field \"{field}\" is not present in dataframe')\n",
    "        \n",
    "        compiled_term = f'{field}.str.contains(\"{keyword}\")'\n",
    "        compiled_query = compiled_query.replace(\n",
    "            term, compiled_term\n",
    "        )\n",
    "    try:\n",
    "        return df.query(compiled_query)\n",
    "    except:\n",
    "        raise Exception('invalid query')\n"
   ]
  },
  {
   "cell_type": "code",
   "execution_count": 15,
   "metadata": {},
   "outputs": [
    {
     "data": {
      "text/html": [
       "<div>\n",
       "<style scoped>\n",
       "    .dataframe tbody tr th:only-of-type {\n",
       "        vertical-align: middle;\n",
       "    }\n",
       "\n",
       "    .dataframe tbody tr th {\n",
       "        vertical-align: top;\n",
       "    }\n",
       "\n",
       "    .dataframe thead th {\n",
       "        text-align: right;\n",
       "    }\n",
       "</style>\n",
       "<table border=\"1\" class=\"dataframe\">\n",
       "  <thead>\n",
       "    <tr style=\"text-align: right;\">\n",
       "      <th></th>\n",
       "      <th>abstract</th>\n",
       "    </tr>\n",
       "  </thead>\n",
       "  <tbody>\n",
       "    <tr>\n",
       "      <th>0</th>\n",
       "      <td>prostate cancer</td>\n",
       "    </tr>\n",
       "    <tr>\n",
       "      <th>1</th>\n",
       "      <td>brain cancer</td>\n",
       "    </tr>\n",
       "  </tbody>\n",
       "</table>\n",
       "</div>"
      ],
      "text/plain": [
       "          abstract\n",
       "0  prostate cancer\n",
       "1     brain cancer"
      ]
     },
     "execution_count": 15,
     "metadata": {},
     "output_type": "execute_result"
    }
   ],
   "source": [
    "\n",
    "df = pd.DataFrame([\n",
    "    {'abstract': 'prostate cancer'},\n",
    "    {'abstract': 'brain cancer'},\n",
    "    {'abstract': 'breast cancer'}\n",
    "])\n",
    "\n",
    "filter_query(df, \"(abstract:cancer) and ((abstract:prostate) or (abstract:brain))\")\n"
   ]
  }
 ],
 "metadata": {
  "kernelspec": {
   "display_name": "review",
   "language": "python",
   "name": "python3"
  },
  "language_info": {
   "codemirror_mode": {
    "name": "ipython",
    "version": 3
   },
   "file_extension": ".py",
   "mimetype": "text/x-python",
   "name": "python",
   "nbconvert_exporter": "python",
   "pygments_lexer": "ipython3",
   "version": "3.8.17"
  }
 },
 "nbformat": 4,
 "nbformat_minor": 2
}
