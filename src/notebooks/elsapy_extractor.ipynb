{
 "cells": [
  {
   "cell_type": "markdown",
   "id": "67877fb7-3526-4631-9fe0-0404ac9cd578",
   "metadata": {
    "jp-MarkdownHeadingCollapsed": true,
    "tags": []
   },
   "source": [
    "# Deprecated"
   ]
  },
  {
   "cell_type": "code",
   "execution_count": null,
   "id": "9bd29062-89dd-4ce2-88e4-c7e5ac2a4b6a",
   "metadata": {
    "tags": []
   },
   "outputs": [],
   "source": [
    "import json\n",
    "import requests\n",
    "import urllib\n",
    "import requests\n",
    "from json import loads\n",
    "import pandas as pd"
   ]
  },
  {
   "cell_type": "code",
   "execution_count": null,
   "id": "881b027a-9a6f-447a-b0d3-5122c6d5e63e",
   "metadata": {},
   "outputs": [],
   "source": [
    "import os\n",
    "from dotenv import load_dotenv\n",
    "\n",
    "load_dotenv()\n",
    "X_ELS_APIKey = os.getenv(\"X_ELS_APIKey\")\n",
    "X_ELS_Insttoken = os.getenv(\"X_ELS_Insttoken\")"
   ]
  },
  {
   "cell_type": "code",
   "execution_count": null,
   "id": "c9d25fe8-04d5-423a-8c4e-8cb7020e6824",
   "metadata": {},
   "outputs": [],
   "source": [
    "keyword = \"%28cancer+of+the+prostate%29+%28+molecular+targeted+therapy%29\""
   ]
  },
  {
   "cell_type": "markdown",
   "id": "2448a9be-7218-49d3-a3ae-10ae07904edc",
   "metadata": {},
   "source": [
    "## Scopus"
   ]
  },
  {
   "cell_type": "markdown",
   "id": "5daaa9c8-668e-477f-8fb3-0370d66d37d5",
   "metadata": {},
   "source": [
    "Pontos que precisaremos trabalhar -\n",
    "\n",
    "- aceita no máximo 25 artigos por query\n",
    "- https://dev.elsevier.com/documentation/ScopusSearchAPI.wadl\n",
    "- Precisamos usar uma outra chave de api disponibilizada pelo teste online usando CORS \n",
    "https://dev.elsevier.com/search.html#/Scopus_Search"
   ]
  },
  {
   "cell_type": "code",
   "execution_count": null,
   "id": "305305e8-bc84-4f9d-b43d-dd4db0f3b863",
   "metadata": {
    "tags": []
   },
   "outputs": [],
   "source": [
    "url = f\"http://api.elsevier.com/content/search/scopus?query=KEY{keyword}\"\n",
    "\n",
    "# Make a request for a given paper\n",
    "resp = requests.get(\n",
    "    url,\n",
    "    headers={\n",
    "        \"Accept\": \"application/json\",\n",
    "        \"X-ELS-APIKey\": X_ELS_APIKey,\n",
    "        \"X-ELS-Insttoken\": X_ELS_Insttoken,\n",
    "        \"X-RateLimit-Reset\": None,\n",
    "    },\n",
    ")\n",
    "\n",
    "# Check the status of the request\n",
    "print(resp.status_code)\n",
    "\n",
    "# Check if the problem is the weekly download limit (usually 10000)\n",
    "try:\n",
    "    print(resp.header[\"X-RateLimit-Remaining\"])\n",
    "except:\n",
    "    pass"
   ]
  },
  {
   "cell_type": "code",
   "execution_count": null,
   "id": "3eaa590e-1faf-41ea-a847-68d39094c515",
   "metadata": {
    "tags": []
   },
   "outputs": [],
   "source": [
    "dic = loads(resp.content)\n",
    "\n",
    "data = pd.DataFrame.from_dict(dic)\n",
    "\n",
    "for i in data.iloc[0]:\n",
    "    scopus_data = pd.DataFrame(i)\n",
    "\n",
    "scopus_data.head()"
   ]
  },
  {
   "cell_type": "markdown",
   "id": "3e9cdd2c-82b2-4651-8ff1-9c5a44d94b89",
   "metadata": {},
   "source": [
    "## Science Direct"
   ]
  },
  {
   "cell_type": "markdown",
   "id": "4347dfd5-278e-4ef8-bd6d-b7c844e6e563",
   "metadata": {},
   "source": [
    "Pontos que precisaremos trabalhar\n",
    "- aceita no máximo 100 artigos por query\n",
    "- https://dev.elsevier.com/documentation/ScienceDirectSearchAPI.wadl\n",
    "- Precisamos usar uma outra chave de api disponibilizada pelo teste online usanod CORS \n",
    "https://dev.elsevier.com/search.html#/ScienceDirect_Search_V2"
   ]
  },
  {
   "cell_type": "code",
   "execution_count": null,
   "id": "11a4572c-6fee-4111-9de7-3077c53f5a93",
   "metadata": {},
   "outputs": [],
   "source": [
    "url = f\"https://api.elsevier.com/content/search/sciencedirect?query={keyword}&count=100\"\n",
    "\n",
    "# Make a request for a given paper\n",
    "resp = requests.get(\n",
    "    url,\n",
    "    headers={\n",
    "        \"Accept\": \"application/json\",\n",
    "        \"X-ELS-APIKey\": X_ELS_APIKey,\n",
    "        \"X-ELS-Insttoken\": X_ELS_Insttoken,\n",
    "        \"X-RateLimit-Reset\": None,\n",
    "    },\n",
    ")\n",
    "\n",
    "# Check the status of the request\n",
    "print(resp.status_code)\n",
    "\n",
    "# Check if the problem is the weekly download limit (usually 10000)\n",
    "try:\n",
    "    print(resp.header[\"X-RateLimit-Remaining\"])\n",
    "except:\n",
    "    pass"
   ]
  },
  {
   "cell_type": "code",
   "execution_count": null,
   "id": "a7cd9432-1e1f-49b0-a9f3-ec78e66a82c9",
   "metadata": {},
   "outputs": [],
   "source": [
    "dic = loads(resp.content)\n",
    "\n",
    "data = pd.DataFrame.from_dict(dic)\n",
    "\n",
    "for i in data.iloc[0]:\n",
    "    scidir_data = pd.DataFrame(i)\n",
    "\n",
    "scidir_data.columns"
   ]
  },
  {
   "cell_type": "markdown",
   "id": "44a96010-7b79-4c2a-a7cd-37a5373e505e",
   "metadata": {},
   "source": [
    "# Version 2"
   ]
  },
  {
   "cell_type": "code",
   "execution_count": 4,
   "id": "d506ad04-d9a4-4626-9f0e-465b27dc44b7",
   "metadata": {
    "tags": []
   },
   "outputs": [],
   "source": [
    "from elsapy.elsclient import ElsClient\n",
    "from elsapy.elsprofile import ElsAuthor, ElsAffil\n",
    "from elsapy.elsdoc import FullDoc, AbsDoc\n",
    "from elsapy.elssearch import ElsSearch\n",
    "import json\n",
    "import pandas as pd"
   ]
  },
  {
   "cell_type": "code",
   "execution_count": 2,
   "id": "99366e68-5da0-4750-9936-c1b6971f37e4",
   "metadata": {
    "tags": []
   },
   "outputs": [],
   "source": [
    "import os\n",
    "from dotenv import load_dotenv\n",
    "\n",
    "load_dotenv()\n",
    "apikey = os.getenv(\"X_ELS_APIKey\")\n",
    "insttoken = os.getenv(\"X_ELS_Insttoken\")\n",
    "keyword = \"(cancer of the prostate) AND (molecular targeted therapy)\""
   ]
  },
  {
   "cell_type": "code",
   "execution_count": 3,
   "id": "9c2410e7-fb43-43e8-8336-28fcf6903b2f",
   "metadata": {
    "tags": []
   },
   "outputs": [],
   "source": [
    "client = ElsClient(apikey)\n",
    "client.inst_token = insttoken"
   ]
  },
  {
   "cell_type": "code",
   "execution_count": 8,
   "id": "1255fed5-dbb1-4aa2-ab02-3afb69433834",
   "metadata": {
    "tags": []
   },
   "outputs": [
    {
     "name": "stdout",
     "output_type": "stream",
     "text": [
      "doc_srch has 5000 results.\n"
     ]
    }
   ],
   "source": [
    "doc_srch = ElsSearch(\"cancer prostata\", \"sciencedirect\")\n",
    "t = doc_srch.execute(client, get_all=True)\n",
    "print(\"doc_srch has\", len(doc_srch.results), \"results.\")"
   ]
  },
  {
   "cell_type": "code",
   "execution_count": 10,
   "id": "f6c651a8-698b-4051-b9a8-d75456d43183",
   "metadata": {},
   "outputs": [],
   "source": [
    "abstract = []\n",
    "pubtype = []\n",
    "\n",
    "for i in doc_srch.results_df['prism:doi']:\n",
    "    doi_doc = FullDoc(doi = i)\n",
    "    if doi_doc.read(client):\n",
    "        abstract.append(doi_doc.data['coredata']['dc:description'])\n",
    "        pubtype.append(doi_doc.data['coredata']['pubType'])    \n",
    "        #doi_doc.write()   \n",
    "    else:\n",
    "        print (\"Read document failed.\")\n",
    "        \n",
    "doc_srch.results_df['abstract'] = abstract\n",
    "doc_srch.results_df['pubtype'] = pubtype"
   ]
  },
  {
   "cell_type": "code",
   "execution_count": 11,
   "id": "153c4b9f-1660-4765-98c1-8c362dab2ed8",
   "metadata": {},
   "outputs": [
    {
     "data": {
      "text/html": [
       "<div>\n",
       "<style scoped>\n",
       "    .dataframe tbody tr th:only-of-type {\n",
       "        vertical-align: middle;\n",
       "    }\n",
       "\n",
       "    .dataframe tbody tr th {\n",
       "        vertical-align: top;\n",
       "    }\n",
       "\n",
       "    .dataframe thead th {\n",
       "        text-align: right;\n",
       "    }\n",
       "</style>\n",
       "<table border=\"1\" class=\"dataframe\">\n",
       "  <thead>\n",
       "    <tr style=\"text-align: right;\">\n",
       "      <th></th>\n",
       "      <th>@_fa</th>\n",
       "      <th>load-date</th>\n",
       "      <th>link</th>\n",
       "      <th>dc:identifier</th>\n",
       "      <th>prism:url</th>\n",
       "      <th>dc:title</th>\n",
       "      <th>dc:creator</th>\n",
       "      <th>prism:publicationName</th>\n",
       "      <th>prism:coverDate</th>\n",
       "      <th>prism:doi</th>\n",
       "      <th>openaccess</th>\n",
       "      <th>pii</th>\n",
       "      <th>authors</th>\n",
       "      <th>prism:volume</th>\n",
       "      <th>prism:startingPage</th>\n",
       "      <th>prism:endingPage</th>\n",
       "      <th>abstract</th>\n",
       "      <th>pubtype</th>\n",
       "    </tr>\n",
       "  </thead>\n",
       "  <tbody>\n",
       "    <tr>\n",
       "      <th>0</th>\n",
       "      <td>true</td>\n",
       "      <td>2023-02-03T00:00:00.000Z</td>\n",
       "      <td>{'self': 'https://api.elsevier.com/content/art...</td>\n",
       "      <td>DOI:10.1016/j.rx.2022.12.005</td>\n",
       "      <td>https://api.elsevier.com/content/article/pii/S...</td>\n",
       "      <td>Resonancia magnética en la detección, estadifi...</td>\n",
       "      <td>J. C. Vilanova</td>\n",
       "      <td>Radiología</td>\n",
       "      <td>2023-02-03</td>\n",
       "      <td>10.1016/j.rx.2022.12.005</td>\n",
       "      <td>False</td>\n",
       "      <td>S0033833823000097</td>\n",
       "      <td>{'author': [{'$': 'J. C. Vilanova'}, {'$': 'V....</td>\n",
       "      <td>NaN</td>\n",
       "      <td>NaN</td>\n",
       "      <td>NaN</td>\n",
       "      <td>\\n                  El cáncer de próstata es m...</td>\n",
       "      <td>fla</td>\n",
       "    </tr>\n",
       "    <tr>\n",
       "      <th>1</th>\n",
       "      <td>true</td>\n",
       "      <td>2023-03-24T00:00:00.000Z</td>\n",
       "      <td>{'self': 'https://api.elsevier.com/content/art...</td>\n",
       "      <td>DOI:10.1016/j.acuro.2023.03.003</td>\n",
       "      <td>https://api.elsevier.com/content/article/pii/S...</td>\n",
       "      <td>Impacto de la realización de resonancia magnét...</td>\n",
       "      <td>D. Vieira e Brito</td>\n",
       "      <td>Actas Urológicas Españolas</td>\n",
       "      <td>2023-03-24</td>\n",
       "      <td>10.1016/j.acuro.2023.03.003</td>\n",
       "      <td>False</td>\n",
       "      <td>S0210480623000542</td>\n",
       "      <td>{'author': [{'$': 'D. Vieira e Brito'}, {'$': ...</td>\n",
       "      <td>NaN</td>\n",
       "      <td>NaN</td>\n",
       "      <td>NaN</td>\n",
       "      <td>\\n                  Introducción\\n            ...</td>\n",
       "      <td>fla</td>\n",
       "    </tr>\n",
       "    <tr>\n",
       "      <th>2</th>\n",
       "      <td>true</td>\n",
       "      <td>2022-10-30T00:00:00.000Z</td>\n",
       "      <td>{'self': 'https://api.elsevier.com/content/art...</td>\n",
       "      <td>DOI:10.1016/S1761-3310(22)47080-0</td>\n",
       "      <td>https://api.elsevier.com/content/article/pii/S...</td>\n",
       "      <td>Técnicas, indicaciones y resultados del vaciam...</td>\n",
       "      <td>C. Laine</td>\n",
       "      <td>EMC - Urología</td>\n",
       "      <td>2022-12-31</td>\n",
       "      <td>10.1016/S1761-3310(22)47080-0</td>\n",
       "      <td>False</td>\n",
       "      <td>S1761331022470800</td>\n",
       "      <td>{'author': [{'$': 'C. Laine'}, {'$': 'F. Rozet...</td>\n",
       "      <td>54</td>\n",
       "      <td>1</td>\n",
       "      <td>6</td>\n",
       "      <td>\\n                  El vaciamiento ganglionar ...</td>\n",
       "      <td>rev</td>\n",
       "    </tr>\n",
       "  </tbody>\n",
       "</table>\n",
       "</div>"
      ],
      "text/plain": [
       "   @_fa                 load-date   \n",
       "0  true  2023-02-03T00:00:00.000Z  \\\n",
       "1  true  2023-03-24T00:00:00.000Z   \n",
       "2  true  2022-10-30T00:00:00.000Z   \n",
       "\n",
       "                                                link   \n",
       "0  {'self': 'https://api.elsevier.com/content/art...  \\\n",
       "1  {'self': 'https://api.elsevier.com/content/art...   \n",
       "2  {'self': 'https://api.elsevier.com/content/art...   \n",
       "\n",
       "                       dc:identifier   \n",
       "0       DOI:10.1016/j.rx.2022.12.005  \\\n",
       "1    DOI:10.1016/j.acuro.2023.03.003   \n",
       "2  DOI:10.1016/S1761-3310(22)47080-0   \n",
       "\n",
       "                                           prism:url   \n",
       "0  https://api.elsevier.com/content/article/pii/S...  \\\n",
       "1  https://api.elsevier.com/content/article/pii/S...   \n",
       "2  https://api.elsevier.com/content/article/pii/S...   \n",
       "\n",
       "                                            dc:title         dc:creator   \n",
       "0  Resonancia magnética en la detección, estadifi...     J. C. Vilanova  \\\n",
       "1  Impacto de la realización de resonancia magnét...  D. Vieira e Brito   \n",
       "2  Técnicas, indicaciones y resultados del vaciam...           C. Laine   \n",
       "\n",
       "        prism:publicationName prism:coverDate                      prism:doi   \n",
       "0                  Radiología      2023-02-03       10.1016/j.rx.2022.12.005  \\\n",
       "1  Actas Urológicas Españolas      2023-03-24    10.1016/j.acuro.2023.03.003   \n",
       "2              EMC - Urología      2022-12-31  10.1016/S1761-3310(22)47080-0   \n",
       "\n",
       "   openaccess                pii   \n",
       "0       False  S0033833823000097  \\\n",
       "1       False  S0210480623000542   \n",
       "2       False  S1761331022470800   \n",
       "\n",
       "                                             authors prism:volume   \n",
       "0  {'author': [{'$': 'J. C. Vilanova'}, {'$': 'V....          NaN  \\\n",
       "1  {'author': [{'$': 'D. Vieira e Brito'}, {'$': ...          NaN   \n",
       "2  {'author': [{'$': 'C. Laine'}, {'$': 'F. Rozet...           54   \n",
       "\n",
       "  prism:startingPage prism:endingPage   \n",
       "0                NaN              NaN  \\\n",
       "1                NaN              NaN   \n",
       "2                  1                6   \n",
       "\n",
       "                                            abstract pubtype  \n",
       "0  \\n                  El cáncer de próstata es m...     fla  \n",
       "1  \\n                  Introducción\\n            ...     fla  \n",
       "2  \\n                  El vaciamiento ganglionar ...     rev  "
      ]
     },
     "execution_count": 11,
     "metadata": {},
     "output_type": "execute_result"
    }
   ],
   "source": [
    "doc_srch.results_df.head(3)"
   ]
  },
  {
   "cell_type": "code",
   "execution_count": 18,
   "id": "82371554-bf87-49e2-add7-5ba9a255e581",
   "metadata": {},
   "outputs": [],
   "source": [
    "doc_srch.results_df.to_csv('../../data/sci_dir_data.csv')"
   ]
  },
  {
   "cell_type": "markdown",
   "id": "fa81bd29-eb10-48bf-89f9-886359e836b1",
   "metadata": {},
   "source": [
    "## Scopus"
   ]
  },
  {
   "cell_type": "code",
   "execution_count": null,
   "id": "1ddfaaf5-d6a0-487a-bc8d-7756a97a0253",
   "metadata": {},
   "outputs": [],
   "source": [
    "doc_srch_scopus = ElsSearch(\"cancer prostata\", \"scopus\")\n",
    "t = doc_srch_scopus.execute(client, get_all=True)\n",
    "print(\"doc_srch has\", len(doc_srch_scopus.results), \"results.\")"
   ]
  },
  {
   "cell_type": "code",
   "execution_count": 17,
   "id": "306c8be9-e670-4938-8d3c-ff5006b1bb74",
   "metadata": {},
   "outputs": [],
   "source": [
    "doc_srch_scopus.results_df.to_csv('../../data/scopus_data.csv')"
   ]
  },
  {
   "cell_type": "code",
   "execution_count": 6,
   "id": "69f8729c-3572-46cf-9bec-755bd616cea0",
   "metadata": {},
   "outputs": [],
   "source": [
    "doc_srch_scopus = pd.read_csv('../../data/scopus_data.csv')"
   ]
  },
  {
   "cell_type": "code",
   "execution_count": null,
   "id": "bd90757f-910c-4cb2-9a33-e9751d3da470",
   "metadata": {},
   "outputs": [],
   "source": [
    "dicts = {}\n",
    "\n",
    "for i in doc_srch_scopus['prism:url']:\n",
    "    scp_doc = AbsDoc(uri = i)\n",
    "    if scp_doc.read(client):\n",
    "        if 'dc:description' in scp_doc.data['coredata']:\n",
    "            dicts[i] = scp_doc.data['coredata']['dc:description']\n",
    "        else:\n",
    "            dicts[i] = 'None'\n",
    "    else:\n",
    "        dicts[i] = 'Failed'"
   ]
  },
  {
   "cell_type": "raw",
   "id": "93423f76-4e00-42a0-a58f-00bc93010866",
   "metadata": {},
   "source": [
    "for i in doc_srch_scopus.results_df['prism:url']:\n",
    "    scp_doc = AbsDoc(uri = i)\n",
    "    if scp_doc.read(client):\n",
    "        if 'dc:description' in scp_doc.data['coredata']:\n",
    "            abstract_scopus.append(scp_doc.data['coredata']['dc:description'])\n",
    "        else:\n",
    "            abstract_scopus.append('None')\n",
    "    else:\n",
    "        print (\"Read document failed.\")"
   ]
  },
  {
   "cell_type": "code",
   "execution_count": 62,
   "id": "3f83a987-d073-4c8f-966a-81d44daea47e",
   "metadata": {},
   "outputs": [
    {
     "data": {
      "text/plain": [
       "5000"
      ]
     },
     "execution_count": 62,
     "metadata": {},
     "output_type": "execute_result"
    }
   ],
   "source": [
    "len(abstract)"
   ]
  },
  {
   "cell_type": "code",
   "execution_count": null,
   "id": "27c9796e-8b00-4316-8e47-eb6a36cd22d0",
   "metadata": {},
   "outputs": [],
   "source": [
    "doc_srch_scopus.results_df['abstract'] = abstract"
   ]
  },
  {
   "cell_type": "markdown",
   "id": "4bf096f2-cc1e-41e7-9c5c-0a64de885d65",
   "metadata": {},
   "source": [
    "## Conferência"
   ]
  },
  {
   "cell_type": "code",
   "execution_count": null,
   "id": "8bfe95c8-10cc-40db-adbd-c60692fdb02a",
   "metadata": {},
   "outputs": [],
   "source": [
    "doi_doc = FullDoc(doi = '10.1016/j.acuro.2023.03.011')\n",
    "if doi_doc.read(client):\n",
    "    print (\"doi_doc.title: \", doi_doc.title)\n",
    "    doi_doc.write()   \n",
    "else:\n",
    "    print (\"Read document failed.\")"
   ]
  },
  {
   "cell_type": "code",
   "execution_count": null,
   "id": "1b7a812c-fa53-4a66-8399-97d87c6bdb3c",
   "metadata": {},
   "outputs": [],
   "source": [
    "doi_doc.data"
   ]
  }
 ],
 "metadata": {
  "kernelspec": {
   "display_name": "Python 3 (ipykernel)",
   "language": "python",
   "name": "python3"
  },
  "language_info": {
   "codemirror_mode": {
    "name": "ipython",
    "version": 3
   },
   "file_extension": ".py",
   "mimetype": "text/x-python",
   "name": "python",
   "nbconvert_exporter": "python",
   "pygments_lexer": "ipython3",
   "version": "3.11.3"
  }
 },
 "nbformat": 4,
 "nbformat_minor": 5
}
