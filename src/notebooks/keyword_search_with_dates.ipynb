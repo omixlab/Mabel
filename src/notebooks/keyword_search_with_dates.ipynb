{
 "cells": [
  {
   "cell_type": "code",
   "execution_count": 61,
   "metadata": {},
   "outputs": [],
   "source": [
    "import pandas as pd\n",
    "import re\n",
    "import string\n",
    "import copy\n",
    "\n",
    "TERM_EXPRESSION = '([a-zA-Z0-9.@_]+:[a-zA-Z0-9_\\- ]+)'\n",
    "\n",
    "def trim_strings(raw_string):\n",
    "    trim_string = copy.copy(raw_string)\n",
    "    for char in string.whitespace + \"'\\\"\":\n",
    "        trim_string = trim_string.strip(char)\n",
    "    trim_string = re.sub('\\W+', ' ', trim_string)\n",
    "    return trim_string\n"
   ]
  },
  {
   "cell_type": "code",
   "execution_count": 62,
   "metadata": {},
   "outputs": [],
   "source": [
    "\n",
    "def keyword_search(df, raw_query, return_query_expression=False, case_sensitive=False):\n",
    "    terms = re.findall(TERM_EXPRESSION, raw_query)\n",
    "    compiled_query = raw_query\n",
    "    \n",
    "    for term in terms:\n",
    "        field, keyword = term.split(':', 1)\n",
    "        field   = trim_strings(field)\n",
    "        keyword = trim_strings(keyword)\n",
    "        \n",
    "        \n",
    "        if field not in df.columns:\n",
    "            raise Exception(f'field \"{field}\" is not present in dataframe')\n",
    "        \n",
    "        if field == 'date':\n",
    "            start_date = int(keyword.split(\" \")[0])\n",
    "            end_date = int(keyword.split(\" \")[1])\n",
    "            df['date'] = df['date'].str.slice(0, 4).astype(int)\n",
    "            compiled_term = f'date >= {start_date} and date <= {end_date}'\n",
    "            \n",
    "        else:\n",
    "            compiled_term = f'{field}.str.contains(\"{keyword}\", na=False, case={case_sensitive})'\n",
    "\n",
    "        compiled_query = compiled_query.replace(\n",
    "            term, \n",
    "            compiled_term\n",
    "        )\n",
    "\n",
    "    return df.query(compiled_query)\n"
   ]
  },
  {
   "cell_type": "code",
   "execution_count": 63,
   "metadata": {},
   "outputs": [],
   "source": [
    "df = pd.DataFrame(\n",
    "    {\"abstract\": [\"Prostate cancer\", \"Brain cancer\", \"Breast cancer\"],\n",
    "     \"date\": [\"2020-01-24\", \"2023-02-03\", \"2019-03-31\"]}\n",
    ")"
   ]
  },
  {
   "cell_type": "code",
   "execution_count": 64,
   "metadata": {},
   "outputs": [
    {
     "data": {
      "text/html": [
       "<div>\n",
       "<style scoped>\n",
       "    .dataframe tbody tr th:only-of-type {\n",
       "        vertical-align: middle;\n",
       "    }\n",
       "\n",
       "    .dataframe tbody tr th {\n",
       "        vertical-align: top;\n",
       "    }\n",
       "\n",
       "    .dataframe thead th {\n",
       "        text-align: right;\n",
       "    }\n",
       "</style>\n",
       "<table border=\"1\" class=\"dataframe\">\n",
       "  <thead>\n",
       "    <tr style=\"text-align: right;\">\n",
       "      <th></th>\n",
       "      <th>abstract</th>\n",
       "      <th>date</th>\n",
       "    </tr>\n",
       "  </thead>\n",
       "  <tbody>\n",
       "    <tr>\n",
       "      <th>0</th>\n",
       "      <td>Prostate cancer</td>\n",
       "      <td>2020</td>\n",
       "    </tr>\n",
       "    <tr>\n",
       "      <th>2</th>\n",
       "      <td>Breast cancer</td>\n",
       "      <td>2019</td>\n",
       "    </tr>\n",
       "  </tbody>\n",
       "</table>\n",
       "</div>"
      ],
      "text/plain": [
       "          abstract  date\n",
       "0  Prostate cancer  2020\n",
       "2    Breast cancer  2019"
      ]
     },
     "execution_count": 64,
     "metadata": {},
     "output_type": "execute_result"
    }
   ],
   "source": [
    "keyword_search(df, \"(abstract:cancer) and (date:2018-2021)\")"
   ]
  }
 ],
 "metadata": {
  "kernelspec": {
   "display_name": "review",
   "language": "python",
   "name": "python3"
  },
  "language_info": {
   "codemirror_mode": {
    "name": "ipython",
    "version": 3
   },
   "file_extension": ".py",
   "mimetype": "text/x-python",
   "name": "python",
   "nbconvert_exporter": "python",
   "pygments_lexer": "ipython3",
   "version": "3.8.17"
  }
 },
 "nbformat": 4,
 "nbformat_minor": 2
}
