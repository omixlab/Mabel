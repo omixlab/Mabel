{
 "cells": [
  {
   "cell_type": "markdown",
   "id": "e7ddf955-b9ff-477e-ae84-1255fdadb229",
   "metadata": {},
   "source": [
    "!pip install langchain\n",
    "!pip install openai\n",
    "!pip install langchain_openai"
   ]
  },
  {
   "cell_type": "code",
   "execution_count": 1,
   "id": "02204216-aa26-4e04-9de4-c4030a36fb40",
   "metadata": {},
   "outputs": [],
   "source": [
    "import langchain\n",
    "import openai\n",
    "import os"
   ]
  },
  {
   "cell_type": "code",
   "execution_count": 2,
   "id": "cd9018fd-94b5-4e87-9dbf-64240d620859",
   "metadata": {},
   "outputs": [],
   "source": [
    "text = \"Around 27% of South Americans live in central and southern Brazil. Of 19,400 human malaria cases in Brazil in 2018, some were from the southern and southeastern states. High abundance of malaria vectors is generally positively associated with malaria incidence. Expanding geographic distributions of Anopheles vector mosquito species (e.g. A. cruzii) in the face of climate change processes would increase risk of such malaria transmission; such risk is of particular concern in regions that hold human population concentrations near present limits of vector species’ geographic distributions. We modeled effects of likely climate changes on the distribution of A. cruzii, evaluating two scenarios of future greenhouse gas emissions for 2050, as simulated in 21 general circulation models and two greenhouse gas scenarios (RCP 4.5 and RCP 8.5) for 2050\""
   ]
  },
  {
   "cell_type": "code",
   "execution_count": 3,
   "id": "7dcc7277-e38c-4bc8-8f37-cd8b0214dcfc",
   "metadata": {},
   "outputs": [],
   "source": [
    "from langchain_openai import ChatOpenAI\n",
    "from langchain_core.prompts import ChatPromptTemplate\n",
    "from langchain_core.output_parsers import StrOutputParser\n",
    "\n",
    "\n",
    "prompt = ChatPromptTemplate.from_template(\"Whats is talked in this {topic}\")\n",
    "model = ChatOpenAI(model=\"gpt-3.5-turbo\")\n",
    "output_parser = StrOutputParser()\n",
    "\n",
    "chain = prompt | model | output_parser"
   ]
  },
  {
   "cell_type": "code",
   "execution_count": 4,
   "id": "e4df47c8-8d80-44e8-89fa-a8f43fb9ce54",
   "metadata": {},
   "outputs": [
    {
     "data": {
      "text/plain": [
       "'This passage discusses the distribution and prevalence of malaria in Brazil, specifically in the central and southern regions where a significant portion of South Americans live. It mentions the high abundance of malaria vectors, such as the Anopheles mosquito species, and how climate change could potentially expand their geographic distribution, increasing the risk of malaria transmission. The passage also mentions a study that modeled the effects of climate change on the distribution of the A. cruzii mosquito species in Brazil, using different scenarios of future greenhouse gas emissions.'"
      ]
     },
     "execution_count": 4,
     "metadata": {},
     "output_type": "execute_result"
    }
   ],
   "source": [
    "chain.invoke({\"topic\": text})"
   ]
  },
  {
   "cell_type": "code",
   "execution_count": null,
   "id": "944f2e3d-5011-4823-8d34-c047da6a6901",
   "metadata": {},
   "outputs": [],
   "source": []
  }
 ],
 "metadata": {
  "kernelspec": {
   "display_name": "Python 3 (ipykernel)",
   "language": "python",
   "name": "python3"
  },
  "language_info": {
   "codemirror_mode": {
    "name": "ipython",
    "version": 3
   },
   "file_extension": ".py",
   "mimetype": "text/x-python",
   "name": "python",
   "nbconvert_exporter": "python",
   "pygments_lexer": "ipython3",
   "version": "3.10.9"
  }
 },
 "nbformat": 4,
 "nbformat_minor": 5
}
