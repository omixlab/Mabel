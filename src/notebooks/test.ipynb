{
 "cells": [
  {
   "cell_type": "code",
   "execution_count": 3,
   "metadata": {},
   "outputs": [],
   "source": [
    "import scispacy\n",
    "import spacy"
   ]
  },
  {
   "cell_type": "code",
   "execution_count": 10,
   "metadata": {},
   "outputs": [],
   "source": [
    "nlp = spacy.load(\"en_ner_bionlp13cg_md\")\n",
    "text = \"\"\"\n",
    "Patients with chronic lymphocytic leukemia (CLL) have an increased risk of developing second primary cancers (SPC). The aim of this study is to determine the frequency of SPC in CLL patients and determine the relationship between these cancers and their treatment status, cytogenetic factors, and other risk factors.\n",
    "\n",
    "The study was designed as multicenter and retroprospective. The sample comprised 553 subjects with a CLL diagnosis. Data collection commenced in August 2016, and completed at May 2021.\n",
    "\n",
    "Fifty one of 553 patients followed for CLL, had a history of SPC. SPC development rate was 9.2%. Epithelial tumors were mostly observed. According to the incidence skin, lymphoma, renal, breast, lung, gastrointestinal system, thyroid, malignant melanoma, prostate, Kaposi's sarcoma, neuroendocrine tumor, ovarian, larynx and salivary gland cancers were detected respectively. The 13q deletion was the most common genetic abnormality in those who developed SPC, and the frequency of 13q deletion was found to be increased statistically significant in those with malignancy, compared to those who did not.\n",
    "\n",
    "In CLL patients with SPC, the age of diagnosis, 13q and CD38 positivity, and treatment rates with fludarabine and monoclonal antibodies were found to be higher. Also, we determined that SPC frequency increased independently from hemogram values (except hemoglobin values), ß2 microglobulin level on admission, number of treatment lines, and genetic mutations other than 13q, in CLL patients. In addition, the mortality rate was higher in CLL patients with SPC and they were prone to be in advanced stages at the time of diagnosis.\n",
    "\"\"\"\n",
    "doc = nlp(text)"
   ]
  },
  {
   "cell_type": "code",
   "execution_count": 11,
   "metadata": {},
   "outputs": [
    {
     "name": "stdout",
     "output_type": "stream",
     "text": [
      "['CD38', 'hemoglobin']\n"
     ]
    }
   ],
   "source": [
    "genes = list()\n",
    "for entity in doc.ents:\n",
    "    if entity.label_ == 'GENE_OR_GENE_PRODUCT':\n",
    "        genes.append(entity.text)\n",
    "\n",
    "print(genes)"
   ]
  },
  {
   "cell_type": "code",
   "execution_count": 12,
   "metadata": {},
   "outputs": [
    {
     "name": "stdout",
     "output_type": "stream",
     "text": [
      "CD38 is GENE_OR_GENE_PRODUCT\n",
      "hemoglobin is GENE_OR_GENE_PRODUCT\n"
     ]
    }
   ],
   "source": [
    "for ent in doc.ents:\n",
    "    if ent.label_ == 'GENE_OR_GENE_PRODUCT':\n",
    "        print(ent.text, 'is', ent.label_)"
   ]
  },
  {
   "attachments": {},
   "cell_type": "markdown",
   "metadata": {},
   "source": [
    "\n",
    "    AMINO_ACID\n",
    "    ANATOMICAL_SYSTEM\n",
    "    CANCER\n",
    "    CELL\n",
    "    CELLULAR_COMPONENT\n",
    "    DEVELOPING_ANATOMICAL_STRUCTURE\n",
    "    ENTITY\n",
    "    GENE_OR_GENE_PRODUCT\n",
    "    IMMATERIAL_ANATOMICAL_ENTITY\n",
    "    MULTI\n",
    "    ORGAN\n",
    "    ORGANISM\n",
    "    ORGANISM_SUBDIVISION\n",
    "    ORGANISM_SUBSTANCE\n",
    "    PATHOLOGICAL_FORMATION\n",
    "    SIMPLE_CHEMICAL\n",
    "    TISSUE\n"
   ]
  }
 ],
 "metadata": {
  "kernelspec": {
   "display_name": "spacy",
   "language": "python",
   "name": "python3"
  },
  "language_info": {
   "codemirror_mode": {
    "name": "ipython",
    "version": 3
   },
   "file_extension": ".py",
   "mimetype": "text/x-python",
   "name": "python",
   "nbconvert_exporter": "python",
   "pygments_lexer": "ipython3",
   "version": "3.11.3"
  },
  "orig_nbformat": 4
 },
 "nbformat": 4,
 "nbformat_minor": 2
}
