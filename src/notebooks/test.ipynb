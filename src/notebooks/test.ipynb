{
 "cells": [
  {
   "cell_type": "code",
   "execution_count": null,
   "metadata": {},
   "outputs": [],
   "source": [
    "import scispacy\n",
    "import spacy"
   ]
  },
  {
   "cell_type": "code",
   "execution_count": 27,
   "metadata": {},
   "outputs": [],
   "source": [
    "nlp = spacy.load(\"en_ner_bionlp13cg_md\")\n",
    "text = \"\"\"\n",
    "BACKGROUND\n",
    "Prostate cancer (PCa) is among the most generally diagnosed cancers in males. A long non-coding RNA (lncRNA) called AC245100.4 has been discovered and linked to PCa carcinogenesis. However, its specific and potential mechanism is uncertain in PCa. In this research, we investigated the role of AC245100.4 in cell proliferation and the underlying mechanism in PCa cells.\n",
    "\n",
    "\n",
    "METHODS\n",
    "qRT-PCR assays were utilized to detect AC245100.4 expression and confirm its downstream target. The pathways related to AC245100.4 were identified by RAP-MS. PCa cell proliferation was experimented by Cell Counting Kit-8 and Colony formation assays. Western blot was performed to detect PAR2, AKT, p-AKT, Cyclin D1 and PCNA expression.\n",
    "\n",
    "\n",
    "RESULTS\n",
    "AC245100.4/PAR2 overexpression promotes PCa cell proliferation and the opposite results are obtained after AC245100.4/PAR2 knockdown. Mechanistically, we found that PAR2 is confirmed as the AC245100.4 downstream target and AC245100.4 promotes PCa cell proliferation by regulating PAR2. AC245100.4 promotes PCa cell proliferation via PI3K/AKT pathway. Rescue assays validated that PAR2 knockdown reversed the impact of AC245100.4 overexpression on increasing p-AKT protein levels.\n",
    "\n",
    "\n",
    "CONCLUSION\n",
    "This research revealed that AC245100.4 enhances cell proliferation in PCa cells through modulating the PAR2/PI3K/AKT axis, which may offer novel tumor markers and potential therapeutic targets for PCa.\n",
    "\"\"\"\n",
    "doc = nlp(text)"
   ]
  },
  {
   "cell_type": "code",
   "execution_count": 32,
   "metadata": {},
   "outputs": [
    {
     "name": "stdout",
     "output_type": "stream",
     "text": [
      "['PAR2', 'AKT', 'p-AKT', 'Cyclin D1', 'PCNA', 'PAR2', 'PAR2', 'PI3K/AKT', 'PAR2', 'p-AKT']\n"
     ]
    }
   ],
   "source": [
    "genes = list()\n",
    "for entity in doc.ents:\n",
    "    if entity.label_ == 'GENE_OR_GENE_PRODUCT':\n",
    "        genes.append(entity.text)\n",
    "\n",
    "print(genes)"
   ]
  }
 ],
 "metadata": {
  "kernelspec": {
   "display_name": "spacy",
   "language": "python",
   "name": "python3"
  },
  "language_info": {
   "codemirror_mode": {
    "name": "ipython",
    "version": 3
   },
   "file_extension": ".py",
   "mimetype": "text/x-python",
   "name": "python",
   "nbconvert_exporter": "python",
   "pygments_lexer": "ipython3",
   "version": "3.11.3"
  },
  "orig_nbformat": 4
 },
 "nbformat": 4,
 "nbformat_minor": 2
}
