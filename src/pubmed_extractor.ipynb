{
 "cells": [
  {
   "cell_type": "code",
   "execution_count": 4,
   "id": "c8a8442b-d8b4-404c-b013-fab1e133a06f",
   "metadata": {
    "tags": []
   },
   "outputs": [],
   "source": [
    "import os\n",
    "from dotenv import load_dotenv\n",
    "\n",
    "load_dotenv()\n",
    "_ = os.getenv('NCBI_API_KEY')\n",
    "\n",
    "import pandas as pd\n",
    "import numpy as np\n",
    "import metapub\n",
    "from metapub import PubMedFetcher\n",
    "from functools import reduce"
   ]
  },
  {
   "cell_type": "code",
   "execution_count": 5,
   "id": "5dedf9d4-224a-4e10-ab45-ad7dc8ed6b78",
   "metadata": {
    "tags": []
   },
   "outputs": [],
   "source": [
    "keyword='(cancer of the prostate[MeSH Terms]) AND (molecular targeted therapy[MeSH Terms])'\n",
    "num_of_articles=620"
   ]
  },
  {
   "cell_type": "code",
   "execution_count": 6,
   "id": "e06c557d-d763-491b-b30e-a151a13e97c7",
   "metadata": {
    "tags": []
   },
   "outputs": [],
   "source": [
    "fetch = PubMedFetcher()\n",
    "\n",
    "# get the  PMID for first 620 articles with keyword \n",
    "pmids = fetch.pmids_for_query(keyword, retmax=num_of_articles)"
   ]
  },
  {
   "cell_type": "markdown",
   "id": "ffbf0dfc-c1d9-486c-860b-64e1bc3bcc70",
   "metadata": {},
   "source": [
    "- Adicionar publication type \n",
    "- pubmed_type"
   ]
  },
  {
   "cell_type": "markdown",
   "id": "dfe88bd3-db0c-416a-bed4-82fa815b27f9",
   "metadata": {},
   "source": [
    "## Pegando xml"
   ]
  },
  {
   "cell_type": "code",
   "execution_count": 7,
   "id": "ba3c16df-386b-49c5-b0dc-45b5fccf7765",
   "metadata": {
    "tags": []
   },
   "outputs": [],
   "source": [
    "xmls = {}\n",
    "for pmid in pmids:\n",
    "    xmls[pmid] = fetch.article_by_pmid(pmid).xml"
   ]
  },
  {
   "cell_type": "code",
   "execution_count": 10,
   "id": "6f584aa0-14aa-413c-8fb8-c8515f792757",
   "metadata": {
    "tags": []
   },
   "outputs": [],
   "source": [
    "for key, value in xmls.items():\n",
    "    with open(f\"../data/xmls/{key}.xml\", \"wb\") as f:\n",
    "        f.write(value)"
   ]
  },
  {
   "cell_type": "markdown",
   "id": "77e3032a-df31-4885-ae38-daa2f2277758",
   "metadata": {},
   "source": [
    "## Pegando por ítem"
   ]
  },
  {
   "cell_type": "code",
   "execution_count": null,
   "id": "114d2665-ea6a-4a53-98c8-9e80a31578eb",
   "metadata": {},
   "outputs": [],
   "source": [
    "# get  articles\n",
    "articles = {}\n",
    "for pmid in pmids:\n",
    "    articles[pmid] = fetch.article_by_pmid(pmid)"
   ]
  },
  {
   "cell_type": "code",
   "execution_count": null,
   "id": "0b92efcf-3564-4d77-a85d-076aeb4ea9fb",
   "metadata": {
    "tags": []
   },
   "outputs": [],
   "source": [
    "titles = {}\n",
    "for pmid in pmids:\n",
    "    titles[pmid] = fetch.article_by_pmid(pmid).title\n",
    "Title = pd.DataFrame(list(titles.items()),columns = ['pmid','Title'])"
   ]
  },
  {
   "cell_type": "code",
   "execution_count": null,
   "id": "687bf611-8e99-47ed-810c-7f7bee071391",
   "metadata": {
    "tags": []
   },
   "outputs": [],
   "source": [
    "Title"
   ]
  },
  {
   "cell_type": "code",
   "execution_count": null,
   "id": "82ddf878-d5a0-4cb7-925f-809f21bf9a29",
   "metadata": {
    "tags": []
   },
   "outputs": [],
   "source": [
    "# get abstract for each article:\n",
    "abstracts = {}\n",
    "for pmid in pmids:\n",
    "    abstracts[pmid] = fetch.article_by_pmid(pmid).abstract\n",
    "Abstract = pd.DataFrame(list(abstracts.items()),columns = ['pmid','Abstract'])"
   ]
  },
  {
   "cell_type": "code",
   "execution_count": null,
   "id": "a6ee0b9e-6985-4ee6-a016-28359cec98e2",
   "metadata": {
    "tags": []
   },
   "outputs": [],
   "source": [
    "authors = {}\n",
    "for pmid in pmids:\n",
    "    authors[pmid] = fetch.article_by_pmid(pmid).authors\n",
    "Author = pd.DataFrame(list(authors.items()),columns = ['pmid','Author'])"
   ]
  },
  {
   "cell_type": "code",
   "execution_count": null,
   "id": "c9c7a0ab-90ef-48f0-8c94-58909250d9b5",
   "metadata": {
    "tags": []
   },
   "outputs": [],
   "source": [
    "years = {}\n",
    "for pmid in pmids:\n",
    "    years[pmid] = fetch.article_by_pmid(pmid).year\n",
    "Year = pd.DataFrame(list(years.items()),columns = ['pmid','Year'])"
   ]
  },
  {
   "cell_type": "code",
   "execution_count": null,
   "id": "bf366bfa-c4df-4cd2-89e8-ee2d40ea3fc1",
   "metadata": {
    "tags": []
   },
   "outputs": [],
   "source": [
    "volumes = {}\n",
    "for pmid in pmids:\n",
    "    volumes[pmid] = fetch.article_by_pmid(pmid).volume\n",
    "Volume = pd.DataFrame(list(volumes.items()),columns = ['pmid','Issue'])"
   ]
  },
  {
   "cell_type": "code",
   "execution_count": null,
   "id": "ebfe8ac2-015a-401d-a606-9d5be48264ed",
   "metadata": {
    "tags": []
   },
   "outputs": [],
   "source": [
    "issues = {}\n",
    "for pmid in pmids:\n",
    "    issues[pmid] = fetch.article_by_pmid(pmid).issue\n",
    "Issue = pd.DataFrame(list(issues.items()),columns = ['pmid','Issue'])"
   ]
  },
  {
   "cell_type": "code",
   "execution_count": null,
   "id": "35134a15-4a13-4b47-b59f-f8c100ea0bef",
   "metadata": {
    "tags": []
   },
   "outputs": [],
   "source": [
    "journals = {}\n",
    "for pmid in pmids:\n",
    "    journals[pmid] = fetch.article_by_pmid(pmid).journal\n",
    "Journal = pd.DataFrame(list(journals.items()),columns = ['pmid','Journal'])"
   ]
  },
  {
   "cell_type": "code",
   "execution_count": null,
   "id": "4dd10723-8ff8-4989-8e71-f02b55f8d480",
   "metadata": {
    "tags": []
   },
   "outputs": [],
   "source": [
    "citations = {}\n",
    "for pmid in pmids:\n",
    "    citations[pmid] = fetch.article_by_pmid(pmid).citation\n",
    "Citation = pd.DataFrame(list(citations.items()),columns = ['pmid','Citation'])"
   ]
  },
  {
   "cell_type": "code",
   "execution_count": null,
   "id": "1679fa65-8aa8-49e3-95c8-3a98d9b929b6",
   "metadata": {
    "tags": []
   },
   "outputs": [],
   "source": [
    "links={}\n",
    "for pmid in pmids:\n",
    "    links[pmid] = \"https://pubmed.ncbi.nlm.nih.gov/\"+pmid+\"/\"\n",
    "Link = pd.DataFrame(list(links.items()),columns = ['pmid','Link'])"
   ]
  },
  {
   "cell_type": "code",
   "execution_count": null,
   "id": "08679136-a09c-4ca6-85d6-1abd47a061de",
   "metadata": {
    "tags": []
   },
   "outputs": [],
   "source": [
    "data_frames = [Title,Abstract,Author,Year,Volume,Issue,Journal,Citation,Link]\n",
    "df_merged = reduce(lambda  left,right: pd.merge(left,right,on=['pmid'],\n",
    "                                            how='outer'), data_frames)\n",
    "df_merged"
   ]
  }
 ],
 "metadata": {
  "kernelspec": {
   "display_name": "Python 3 (ipykernel)",
   "language": "python",
   "name": "python3"
  },
  "language_info": {
   "codemirror_mode": {
    "name": "ipython",
    "version": 3
   },
   "file_extension": ".py",
   "mimetype": "text/x-python",
   "name": "python",
   "nbconvert_exporter": "python",
   "pygments_lexer": "ipython3",
   "version": "3.10.9"
  }
 },
 "nbformat": 4,
 "nbformat_minor": 5
}
