{
 "cells": [
  {
   "cell_type": "code",
   "execution_count": 4,
   "metadata": {},
   "outputs": [],
   "source": [
    "alzheimer = \"APP, PSEN1, GRIN1, PSEN2, CDK5, SORL1, APOE, ACHE, HMGCR, GRIN3B, GRIN2B, GRIN2C, GRIN2A, GRIN3A, GRIN2D, BCHE, GRIN2C, HFE, CDK5R1, ACE\""
   ]
  },
  {
   "cell_type": "code",
   "execution_count": 10,
   "metadata": {},
   "outputs": [
    {
     "name": "stdout",
     "output_type": "stream",
     "text": [
      "{'CLSTN1'}\n",
      "['CLSTN1']\n"
     ]
    }
   ],
   "source": [
    "import pickle\n",
    "from flashtext import KeywordProcessor\n",
    "\n",
    "model = \"data/flashtext_models/default_models/genes_human.pickle\"\n",
    "genes = \"PIK3CD\"\n",
    "\n",
    "with open(model, \"rb\") as reader:\n",
    "    kp = pickle.loads(reader.read())\n",
    "\n",
    "processed_keywords = set(kp.extract_keywords(genes))\n",
    "print(processed_keywords)\n",
    "\n",
    "print([k for k in processed_keywords if k not in genes])"
   ]
  },
  {
   "cell_type": "code",
   "execution_count": 8,
   "metadata": {},
   "outputs": [
    {
     "name": "stdout",
     "output_type": "stream",
     "text": [
      "['APP', 'APOE']\n"
     ]
    }
   ],
   "source": [
    "alzheimer = [\"PIK3CD\", \"APP\", \"AKT1\", \"BACE1\", \"IL6\", \"EGFR\", \"TNF\", \"TAF8\", \"EREG\", \"BCL2\", \"VEGFA\", \"PTGS2\", \"PRKAB1\", \"STAT3\", \"BDNF\", \"NLRP3\", \"MAPK8\", \"EPHB2\", \"JUN\", \"POLDIP2\", \"APOE\", \"MAPK3\", \"SOAT1\", \"TAS2R62P\", \"TBXT\"]\n",
    "\n",
    "\n",
    "print([k for k in alzheimer if k in processed_keywords])"
   ]
  }
 ],
 "metadata": {
  "kernelspec": {
   "display_name": "review",
   "language": "python",
   "name": "python3"
  },
  "language_info": {
   "codemirror_mode": {
    "name": "ipython",
    "version": 3
   },
   "file_extension": ".py",
   "mimetype": "text/x-python",
   "name": "python",
   "nbconvert_exporter": "python",
   "pygments_lexer": "ipython3",
   "version": "3.8.18"
  }
 },
 "nbformat": 4,
 "nbformat_minor": 2
}
